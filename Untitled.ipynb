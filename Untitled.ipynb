{
 "cells": [
  {
   "cell_type": "markdown",
   "id": "f26a7532-1c6f-4291-8da6-1dbcfcba7e4f",
   "metadata": {},
   "source": [
    "| Age Group|       FoP      |  Frequency   |\n",
    "|:---------|:--------------:|-------------:|\n",
    "|  18-25   |  Annually      |      94      |\n",
    "|  26-35   |  Bi-weekly     |      121     |\n",
    "|  36-50   |  Every 3 Months|      171     |\n",
    "|  51-60   |  Quarterly     |      113     |\n",
    "|   61+    |  Quarterly     |      112     | "
   ]
  },
  {
   "cell_type": "code",
   "execution_count": null,
   "id": "062ecb8f-41bb-478d-a184-d93da9bbd080",
   "metadata": {},
   "outputs": [],
   "source": []
  }
 ],
 "metadata": {
  "kernelspec": {
   "display_name": "Python 3 (ipykernel)",
   "language": "python",
   "name": "python3"
  },
  "language_info": {
   "codemirror_mode": {
    "name": "ipython",
    "version": 3
   },
   "file_extension": ".py",
   "mimetype": "text/x-python",
   "name": "python",
   "nbconvert_exporter": "python",
   "pygments_lexer": "ipython3",
   "version": "3.12.4"
  }
 },
 "nbformat": 4,
 "nbformat_minor": 5
}
